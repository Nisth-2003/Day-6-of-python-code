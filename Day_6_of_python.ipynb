{
  "nbformat": 4,
  "nbformat_minor": 0,
  "metadata": {
    "colab": {
      "provenance": []
    },
    "kernelspec": {
      "name": "python3",
      "display_name": "Python 3"
    },
    "language_info": {
      "name": "python"
    }
  },
  "cells": [
    {
      "cell_type": "code",
      "source": [
        "#SUm of natural numbers\n",
        "num=4\n",
        "sum=0\n",
        "while(num>0):\n",
        "  sum += num\n",
        "  num -= 1\n",
        "print(sum)"
      ],
      "metadata": {
        "colab": {
          "base_uri": "https://localhost:8080/",
          "height": 0
        },
        "id": "v29ahluugnaV",
        "outputId": "ef68a914-1daa-4b06-e178-00986686c5ec"
      },
      "execution_count": 4,
      "outputs": [
        {
          "output_type": "stream",
          "name": "stdout",
          "text": [
            "10\n"
          ]
        }
      ]
    },
    {
      "cell_type": "code",
      "source": [
        "#sum of natural numbers\n",
        "n=int(input(\"Enter a n:\"))\n",
        "print(int(((n)*(n+1))/2))"
      ],
      "metadata": {
        "colab": {
          "base_uri": "https://localhost:8080/",
          "height": 0
        },
        "id": "xQ_1EoVohEGv",
        "outputId": "f3c1fcdf-0b87-491e-940a-bc87624be283"
      },
      "execution_count": 7,
      "outputs": [
        {
          "output_type": "stream",
          "name": "stdout",
          "text": [
            "Enter a n:4\n",
            "10\n"
          ]
        }
      ]
    },
    {
      "cell_type": "code",
      "source": [
        "n=int(input(\"Enter a number:\"))\n",
        "sum=0\n",
        "temp=num\n",
        "while temp>0:\n",
        "  digit=temp%10\n",
        "  sum+=digit*n\n",
        "  temp//=10\n",
        "if (n==sum):\n",
        "  print(\"Armstrong\")\n",
        "else:\n",
        "  print(\"numbr is not armstrong\")"
      ],
      "metadata": {
        "colab": {
          "base_uri": "https://localhost:8080/",
          "height": 0
        },
        "id": "TKLMCLeYhdq_",
        "outputId": "892fd46b-95e0-4115-c43f-cad8ba1a61f1"
      },
      "execution_count": 11,
      "outputs": [
        {
          "output_type": "stream",
          "name": "stdout",
          "text": [
            "Enter a number:123\n",
            "numbr is not armstrong\n"
          ]
        }
      ]
    },
    {
      "cell_type": "code",
      "source": [
        "n=int(input(\"Enter a number:\"))\n",
        "sum=0\n",
        "temp=n\n",
        "while temp>0:\n",
        "  digit=temp%10\n",
        "  sum+=digit**n\n",
        "  temp//=10\n",
        "if sum==n:\n",
        "  print(\"Armstrong\")\n",
        "else:\n",
        "  print(\"no armstrong\")"
      ],
      "metadata": {
        "colab": {
          "base_uri": "https://localhost:8080/",
          "height": 0
        },
        "id": "aELrJ1sOjIvN",
        "outputId": "36f25043-24ce-459f-dbfe-f5a30a52a3f5"
      },
      "execution_count": 12,
      "outputs": [
        {
          "output_type": "stream",
          "name": "stdout",
          "text": [
            "Enter a number:123\n",
            "no armstrong\n"
          ]
        }
      ]
    },
    {
      "cell_type": "code",
      "source": [],
      "metadata": {
        "id": "WiJcS44mjy3w"
      },
      "execution_count": null,
      "outputs": []
    }
  ]
}